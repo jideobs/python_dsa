{
 "cells": [
  {
   "cell_type": "markdown",
   "source": [
    "# Recursion\n",
    "\n",
    "Proof of Euclidean video \n",
    "https://www.youtube.com/watch?v=H_2_nqKAZ5w\n",
    "\n",
    "\n",
    "The Greatest Common Divisor of two numbers X and Y is the GCD of X and R where R is Y - X, basically R is always less than Y."
   ],
   "metadata": {
    "collapsed": false
   }
  },
  {
   "cell_type": "code",
   "execution_count": 3,
   "outputs": [
    {
     "name": "stdout",
     "text": [
      "34\n21\n13\n8\n5\n3\n2\n1\n0\n"
     ],
     "output_type": "stream"
    },
    {
     "data": {
      "text/plain": "1"
     },
     "metadata": {},
     "output_type": "execute_result",
     "execution_count": 3
    }
   ],
   "source": [
    "def gcd(x, y):\n",
    "    if y == 0:\n",
    "        return x\n",
    "    else:\n",
    "        r = x % y\n",
    "        print(r)\n",
    "    return gcd(y, r)\n",
    "    \n",
    "gcd(34, 55)"
   ],
   "metadata": {
    "collapsed": false,
    "pycharm": {
     "name": "#%%\n",
     "is_executing": false
    }
   }
  }
 ],
 "metadata": {
  "kernelspec": {
   "name": "python3",
   "language": "python",
   "display_name": "Python 3"
  },
  "language_info": {
   "codemirror_mode": {
    "name": "ipython",
    "version": 2
   },
   "file_extension": ".py",
   "mimetype": "text/x-python",
   "name": "python",
   "nbconvert_exporter": "python",
   "pygments_lexer": "ipython2",
   "version": "2.7.6"
  },
  "pycharm": {
   "stem_cell": {
    "cell_type": "raw",
    "source": [],
    "metadata": {
     "collapsed": false
    }
   }
  }
 },
 "nbformat": 4,
 "nbformat_minor": 0
}