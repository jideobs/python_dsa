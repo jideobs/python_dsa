{
 "cells": [
  {
   "cell_type": "code",
   "execution_count": 10,
   "metadata": {
    "collapsed": true,
    "pycharm": {
     "name": "#%%\n"
    }
   },
   "outputs": [
    {
     "name": "stdout",
     "output_type": "stream",
     "text": [
      "[0, 1, 0, 2, 0, 3]\n"
     ]
    }
   ],
   "source": [
    "from typing import List, Dict\n",
    "\n",
    "def compute_dfa(pattern: str):\n",
    "\n",
    "    pattern_len = len(pattern)\n",
    "    dfa: List[int] = pattern_len * [0]\n",
    "\n",
    "    lps = 0\n",
    "    j = 1\n",
    "\n",
    "    while j < pattern_len:\n",
    "        char = pattern[j]\n",
    "        if char in pattern[: j]:\n",
    "            dfa[j] = lps + 1\n",
    "            lps += 1\n",
    "        j += 1\n",
    "\n",
    "    return dfa\n",
    "\n",
    "test_pattern = \"ppttrr\"\n",
    "pattern_dfa = compute_dfa(test_pattern)\n",
    "\n",
    "print(pattern_dfa)"
   ]
  }
 ],
 "metadata": {
  "kernelspec": {
   "display_name": "Python 3",
   "language": "python",
   "name": "python3"
  },
  "language_info": {
   "codemirror_mode": {
    "name": "ipython",
    "version": 2
   },
   "file_extension": ".py",
   "mimetype": "text/x-python",
   "name": "python",
   "nbconvert_exporter": "python",
   "pygments_lexer": "ipython2",
   "version": "2.7.6"
  }
 },
 "nbformat": 4,
 "nbformat_minor": 0
}