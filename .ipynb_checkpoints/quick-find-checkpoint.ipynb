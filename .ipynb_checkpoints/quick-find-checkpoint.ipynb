{
 "cells": [
  {
   "cell_type": "code",
   "execution_count": 1,
   "metadata": {
    "collapsed": true
   },
   "outputs": [],
   "source": [
    "from typing import List\n",
    "\n",
    "class QuickFindUF:\n",
    "    ids: List[int] = []\n",
    "    count: int = 0\n",
    "    \n",
    "    def __init__(self, n: int):\n",
    "        self.count = n\n",
    "        \n",
    "        for i in range(n):\n",
    "            self.ids.append(i)\n",
    "            \n",
    "    def connected(self, p: int, q: int):\n",
    "        self.validate(p)\n",
    "        self.validate(q)\n",
    "        \n",
    "        return self.ids[p] == self.ids[q]\n",
    "        \n",
    "    def validate(self, p: int):\n",
    "        if p < 0 or p >= len(self.ids):\n",
    "            raise Exception(\"index \" + p + \" is not between 0 and\" + (len(self.ids) - 1))\n",
    "        \n",
    "    def find(self, p) -> int:\n",
    "        self.validate(p)\n",
    "        return self.ids[p]\n",
    "    \n",
    "    def union(self, p, q):\n",
    "        self.validate(p)\n",
    "        self.validate(q)\n",
    "        \n",
    "        p_id = self.ids[p]\n",
    "        q_id = self.ids[q]\n",
    "        \n",
    "        if not self.connected(p, q):\n",
    "            for i in range(len(self.ids)):\n",
    "                if self.ids[i] == p_id:\n",
    "                    self.ids[i] = q_id\n",
    "                        \n",
    "            self.count = self.count - 1"
   ]
  },
  {
   "cell_type": "markdown",
   "metadata": {
    "pycharm": {
     "name": "#%% md\n"
    }
   },
   "source": [
    "## Number of islands\n",
    "\n",
    "Given a 2d grid map of '1's (land) and '0's (water), count the number of islands. An island is surrounded by water and is formed by connecting adjacent lands horizontally or vertically. You may assume all four edges of the grid are all surrounded by water.\n",
    "\n",
    "LC Link: https://leetcode.com/problems/number-of-islands/"
   ]
  },
  {
   "cell_type": "code",
   "execution_count": 2,
   "metadata": {
    "pycharm": {
     "name": "#%%\n"
    }
   },
   "outputs": [],
   "source": [
    "test_case_one = [\n",
    "    [\"1\",\"1\",\"1\",\"1\",\"0\"],\n",
    "    [\"1\",\"1\",\"0\",\"1\",\"0\"],\n",
    "    [\"1\",\"1\",\"0\",\"0\",\"0\"],\n",
    "    [\"0\",\"0\",\"0\",\"0\",\"0\"]\n",
    "]\n",
    "\n",
    "test_case_two = [\n",
    "    [\"1\",\"1\",\"0\",\"0\",\"0\"],\n",
    "    [\"1\",\"1\",\"0\",\"0\",\"0\"],\n",
    "    [\"0\",\"0\",\"1\",\"0\",\"0\"],\n",
    "    [\"0\",\"0\",\"0\",\"1\",\"1\"]\n",
    "]"
   ]
  },
  {
   "cell_type": "code",
   "execution_count": 3,
   "metadata": {
    "pycharm": {
     "name": "#%%\n"
    }
   },
   "outputs": [],
   "source": [
    "class Solution:\n",
    "    \n",
    "    grid: List[List[str]]\n",
    "    uf: QuickFindUF\n",
    "    m: int\n",
    "    n: int\n",
    "    \n",
    "    def is_valid_cell(self, x, y):\n",
    "        return 0 <= x < self.m and 0 <= y < self.n\n",
    "    \n",
    "    def connect_neighbours(self, x, y):\n",
    "        deltas: List[List[int]] = [\n",
    "            [1, 0],\n",
    "            [-1, 0],\n",
    "            [0, 1],\n",
    "            [0, -1]]\n",
    "        \n",
    "        for i in range(len(deltas)):\n",
    "            x2 = x + deltas[i][0]\n",
    "            y2 = y + deltas[i][1]\n",
    "\n",
    "            if self.is_valid_cell(x2, y2) and self.grid[x2][y2] == '1':\n",
    "                print('union', x, y, x2, y2)\n",
    "                self.uf.union(x + y, x2 + y2)\n",
    "    \n",
    "    def num_islands(self, grid: List[List[str]]) -> int:\n",
    "        self.grid = grid\n",
    "        \n",
    "        self.m = len(grid)    \n",
    "        self.n = len(grid[0])\n",
    "        \n",
    "        self.uf = QuickFindUF(self.m * self.n)\n",
    "        \n",
    "        num_of_islands = 0\n",
    "        \n",
    "        for i in range(self.m):\n",
    "            for j in range(self.n):\n",
    "                if self.grid[i][j] == '1':\n",
    "                    self.grid[i][j] = '0'\n",
    "                    self.connect_neighbours(i, j)\n",
    "                    num_of_islands = num_of_islands + 1\n",
    "                \n",
    "        return num_of_islands"
   ]
  },
  {
   "cell_type": "code",
   "execution_count": 4,
   "metadata": {
    "pycharm": {
     "name": "#%%\n"
    }
   },
   "outputs": [
    {
     "name": "stdout",
     "output_type": "stream",
     "text": [
      "union 0 0 1 0\n",
      "union 0 0 0 1\n",
      "union 0 1 1 1\n",
      "union 0 1 0 2\n",
      "union 0 2 0 3\n",
      "union 0 3 1 3\n",
      "union 1 0 2 0\n",
      "union 1 0 1 1\n",
      "union 1 1 2 1\n",
      "union 2 0 2 1\n",
      "Boom! Incorrect 9\n"
     ]
    }
   ],
   "source": [
    "s = Solution()\n",
    "num_of_island_one = s.num_islands(test_case_one)\n",
    "\n",
    "if num_of_island_one != 1:\n",
    "    print('Boom! Incorrect', num_of_island_one)"
   ]
  }
 ],
 "metadata": {
  "kernelspec": {
   "display_name": "Python 3",
   "language": "python",
   "name": "python3"
  },
  "language_info": {
   "codemirror_mode": {
    "name": "ipython",
    "version": 3
   },
   "file_extension": ".py",
   "mimetype": "text/x-python",
   "name": "python",
   "nbconvert_exporter": "python",
   "pygments_lexer": "ipython3",
   "version": "3.7.4"
  }
 },
 "nbformat": 4,
 "nbformat_minor": 1
}
